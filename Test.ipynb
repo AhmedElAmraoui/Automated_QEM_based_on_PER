{
 "cells": [
  {
   "cell_type": "code",
   "execution_count": 14,
   "id": "2dd27758",
   "metadata": {},
   "outputs": [],
   "source": [
    "from qiskit import QuantumCircuit, transpile\n",
    "from qiskit_aer import Aer, AerSimulator\n",
    "from qiskit.providers.fake_provider import GenericBackendV2\n",
    "from matplotlib import pyplot as plt\n",
    "import sys\n",
    "import numpy as np\n",
    "from qiskit.quantum_info import Pauli\n",
    "from qiskit_aer.noise import NoiseModel, pauli_error\n",
    "\n",
    "sys.path.append(\"../../pauli_lindblad_per/\")\n",
    "from tomography.experiment import SparsePauliTomographyExperiment as tomography\n",
    "\n",
    "plt.style.use(\"ggplot\")\n",
    "\n",
    "%load_ext autoreload\n",
    "%autoreload 2\n"
   ]
  },
  {
   "cell_type": "code",
   "execution_count": 15,
   "id": "9d3ccc2c",
   "metadata": {},
   "outputs": [
    {
     "name": "stdout",
     "output_type": "stream",
     "text": [
      "          \n",
      "q_0: ─────\n",
      "          \n",
      "q_1: ──■──\n",
      "     ┌─┴─┐\n",
      "q_2: ┤ X ├\n",
      "     └───┘\n",
      "q_3: ─────\n",
      "          \n"
     ]
    }
   ],
   "source": [
    "inst_map = [0,1,2,3]\n",
    "n = 4\n",
    "qc = QuantumCircuit(n)\n",
    "qc.cx(1,2)\n",
    "print(qc.draw())\n",
    "\n",
    "coupling_list = [(0, 1), (1, 0), (1, 2), (2, 1), (2, 3), (3, 2)]\n",
    "\n",
    "\n",
    "\n",
    "# Fehlerdefinition: Nur XX auf Qubits 1 & 2\n",
    "errorops = [Pauli(\"XY\")]\n",
    "errorprobs = [0.2]\n",
    "\n",
    "# Erzeuge PauliError und NoiseModel\n",
    "twoqubit_error = pauli_error([(op, p) for op, p in zip(errorops, errorprobs)] + [(Pauli(\"II\"), 1 - sum(errorprobs))])\n",
    "noise_model = NoiseModel()\n",
    "noise_model.add_all_qubit_quantum_error(twoqubit_error, ['cx'])\n",
    "\n",
    "backend = GenericBackendV2(num_qubits=4, coupling_map=coupling_list)\n",
    "connectivity = backend.coupling_map.graph.subgraph(inst_map)\n",
    "backend._sim = AerSimulator(noise_model=noise_model)"
   ]
  },
  {
   "cell_type": "code",
   "execution_count": 16,
   "id": "8be3c1fa",
   "metadata": {},
   "outputs": [
    {
     "name": "stdout",
     "output_type": "stream",
     "text": [
      "39\n"
     ]
    }
   ],
   "source": [
    "experiment = tomography(\n",
    "    circuits = [qc], #list of circuits from which to get the layers requiring tomography\n",
    "    inst_map = inst_map, #which physical qubits on the processor to map the qubits in the circuit\n",
    "    backend = backend #quantum backend\n",
    "    )\n",
    "\n",
    "experiment._procspec.meas_bases\n",
    "print(len(experiment._procspec.model_terms))\n",
    "\n",
    "experiment.generate(\n",
    "    samples = 100, #Number of samples to take from the fidelity pair measurements\n",
    "    single_samples = 250, #samples to take from the pair-breaking measurements\n",
    "    depths = [2,4,16,32,64] #values of 2n to make the pair measurements. Numbers must be even and non-zero\n",
    "    )\n",
    "\n",
    "shots = 1024\n",
    "def executor(circuits):\n",
    "    return backend.run(circuits, shots = shots).result().get_counts()\n",
    "\n",
    "#run the experiment\n",
    "experiment.run(executor)"
   ]
  },
  {
   "cell_type": "code",
   "execution_count": 17,
   "id": "5e0ccb2b",
   "metadata": {},
   "outputs": [
    {
     "name": "stdout",
     "output_type": "stream",
     "text": [
      "noise coefficients: [(XYII, np.float64(0.0)), (IYYI, np.float64(0.0)), (XZII, np.float64(1.6877393670385932e-07)), (ZIII, np.float64(0.0)), (IIXI, np.float64(0.0)), (IYXI, np.float64(2.8623227688421385e-06)), (IIIY, np.float64(0.0)), (IIXY, np.float64(0.0)), (YIII, np.float64(0.0)), (IIIZ, np.float64(0.0)), (IXYI, np.float64(0.0)), (ZXII, np.float64(0.0)), (IZII, np.float64(0.0)), (IYZI, np.float64(0.0)), (YYII, np.float64(0.0)), (IIZI, np.float64(0.0)), (IIZX, np.float64(0.0)), (YZII, np.float64(1.687739367038582e-07)), (IZZI, np.float64(0.0)), (XXII, np.float64(0.0)), (IIYY, np.float64(0.0)), (IZXI, np.float64(0.0)), (YXII, np.float64(0.0)), (XIII, np.float64(0.0)), (IYII, np.float64(0.0)), (IXII, np.float64(0.0)), (IIZZ, np.float64(0.0)), (IXXI, np.float64(0.0)), (IIYI, np.float64(0.0)), (IZYI, np.float64(0.0)), (IIXX, np.float64(0.0)), (IXZI, np.float64(0.0)), (ZYII, np.float64(0.0)), (IIZY, np.float64(0.0)), (IIYX, np.float64(0.0)), (IIYZ, np.float64(0.0)), (IIIX, np.float64(0.0)), (ZZII, np.float64(1.6877393670385903e-07)), (IIXZ, np.float64(0.0))]\n",
      "spam coefficients: [(ZIII, np.float64(0.9999788589320225)), (IIXI, np.float64(0.9999788589320225)), (IIIY, np.float64(0.9999788589320225)), (YIII, np.float64(0.9999788589320225)), (IIIZ, np.float64(0.9999788589320225)), (IZII, np.float64(0.9999788589320225)), (IIZI, np.float64(0.9999788589320225)), (XIII, np.float64(0.9999788589320225)), (IYII, np.float64(0.9999788589320225)), (IXII, np.float64(0.9999788589320225)), (IIYI, np.float64(0.9999788589320225)), (IIIX, np.float64(0.9999788589320225))]\n"
     ]
    }
   ],
   "source": [
    "noisedataframe = experiment.analyze()\n",
    "print(\"noise coefficients:\", list(noisedataframe.noisemodels.values())[0].coeffs)\n",
    "print(\"spam coefficients:\", list(zip(noisedataframe.spam.keys(), noisedataframe.spam.values())))"
   ]
  },
  {
   "cell_type": "code",
   "execution_count": 18,
   "id": "cb9ca17a",
   "metadata": {},
   "outputs": [
    {
     "name": "stdout",
     "output_type": "stream",
     "text": [
      "[[IYYI, IYXI, IXYI, IYZI, IZZI, IZXI, IXXI, IZYI, IXZI]]\n"
     ]
    },
    {
     "data": {
      "text/plain": [
       "<Axes: >"
      ]
     },
     "execution_count": 18,
     "metadata": {},
     "output_type": "execute_result"
    },
    {
     "data": {
      "image/png": "[encoded data removed]",
      "text/plain": [
       "<Figure size 640x480 with 1 Axes>"
      ]
     },
     "metadata": {},
     "output_type": "display_data"
    }
   ],
   "source": [
    "#The exponential decay shows that the channel was properly diagonalized\n",
    "layer = experiment.analysis.get_layer_data(0)\n",
    "print(layer._model_terms([(1,2)]))\n",
    "layer.graph([1,2])\n",
    "#print(layer)"
   ]
  },
  {
   "cell_type": "code",
   "execution_count": 28,
   "id": "dff1a8cb",
   "metadata": {},
   "outputs": [
    {
     "data": {
      "text/plain": [
       "<module 'tomography.layernoisedata' from 'c:\\\\Users\\\\kchar\\\\OneDrive\\\\Desktop\\\\Uni\\\\Hiwi_Orth\\\\Qiskit\\\\UpdatedCode\\\\tomography\\\\layernoisedata.py'>"
      ]
     },
     "execution_count": 28,
     "metadata": {},
     "output_type": "execute_result"
    }
   ],
   "source": [
    "from importlib import reload\n",
    "import tomography.layernoisedata\n",
    "\n",
    "reload(tomography.layernoisedata)"
   ]
  },
  {
   "cell_type": "code",
   "execution_count": 29,
   "id": "b54b77a3",
   "metadata": {},
   "outputs": [
    {
     "ename": "AttributeError",
     "evalue": "'ProcessorSpec' object has no attribute 'processor'",
     "output_type": "error",
     "traceback": [
      "\u001b[1;31m---------------------------------------------------------------------------\u001b[0m",
      "\u001b[1;31mAttributeError\u001b[0m                            Traceback (most recent call last)",
      "Cell \u001b[1;32mIn[29], line 2\u001b[0m\n\u001b[0;32m      1\u001b[0m \u001b[38;5;66;03m#plot the infidelities of different Paulis\u001b[39;00m\n\u001b[1;32m----> 2\u001b[0m \u001b[43mlayer\u001b[49m\u001b[38;5;241;43m.\u001b[39;49m\u001b[43mplot_infidelitites\u001b[49m\u001b[43m(\u001b[49m\u001b[43mplot_style\u001b[49m\u001b[43m \u001b[49m\u001b[38;5;241;43m=\u001b[39;49m\u001b[43m \u001b[49m\u001b[38;5;241;43m2\u001b[39;49m\u001b[43m)\u001b[49m\n",
      "File \u001b[1;32mc:\\Users\\kchar\\OneDrive\\Desktop\\Uni\\Hiwi_Orth\\Qiskit\\UpdatedCode\\tomography\\layernoisedata.py:190\u001b[0m, in \u001b[0;36mLayerNoiseData.plot_infidelitites\u001b[1;34m(self, plot_style, *links)\u001b[0m\n\u001b[0;32m    187\u001b[0m \u001b[38;5;28;01mfor\u001b[39;00m term \u001b[38;5;129;01min\u001b[39;00m model_terms:\n\u001b[0;32m    188\u001b[0m     infidelities[term] \u001b[38;5;241m=\u001b[39m \u001b[38;5;241m1\u001b[39m\u001b[38;5;241m-\u001b[39m\u001b[38;5;28mself\u001b[39m\u001b[38;5;241m.\u001b[39m_term_data[term]\u001b[38;5;241m.\u001b[39mfidelity\n\u001b[1;32m--> 190\u001b[0m coupling_list \u001b[38;5;241m=\u001b[39m \u001b[38;5;28;43mself\u001b[39;49m\u001b[38;5;241;43m.\u001b[39;49m\u001b[43mlayer\u001b[49m\u001b[38;5;241;43m.\u001b[39;49m\u001b[43m_procspec\u001b[49m\u001b[38;5;241;43m.\u001b[39;49m\u001b[43mprocessor\u001b[49m\u001b[38;5;241m.\u001b[39msub_map(\u001b[38;5;28mself\u001b[39m\u001b[38;5;241m.\u001b[39mlayer\u001b[38;5;241m.\u001b[39m_procspec\u001b[38;5;241m.\u001b[39minst_map)\n\u001b[0;32m    191\u001b[0m \u001b[38;5;28mself\u001b[39m\u001b[38;5;241m.\u001b[39mplot_grouped_by_qubit(model_terms, infidelities, coupling_list, title\u001b[38;5;241m=\u001b[39m\u001b[38;5;124m\"\u001b[39m\u001b[38;5;124mFidelity\u001b[39m\u001b[38;5;124m\"\u001b[39m, ylabel\u001b[38;5;241m=\u001b[39m \u001b[38;5;124m\"\u001b[39m\u001b[38;5;124mCoefficients\u001b[39m\u001b[38;5;124m\"\u001b[39m)\n",
      "\u001b[1;31mAttributeError\u001b[0m: 'ProcessorSpec' object has no attribute 'processor'"
     ]
    }
   ],
   "source": [
    "#plot the infidelities of different Paulis\n",
    "layer.plot_infidelitites(plot_style = 2)"
   ]
  },
  {
   "cell_type": "code",
   "execution_count": null,
   "id": "73aaad28",
   "metadata": {},
   "outputs": [],
   "source": [
    "#plot the lambda_k for different terms\n",
    "layer.plot_coeffs([1,2])"
   ]
  }
 ],
 "metadata": {
  "kernelspec": {
   "display_name": "qiskit-venv",
   "language": "python",
   "name": "python3"
  },
  "language_info": {
   "codemirror_mode": {
    "name": "ipython",
    "version": 3
   },
   "file_extension": ".py",
   "mimetype": "text/x-python",
   "name": "python",
   "nbconvert_exporter": "python",
   "pygments_lexer": "ipython3",
   "version": "3.10.11"
  }
 },
 "nbformat": 4,
 "nbformat_minor": 5
}
